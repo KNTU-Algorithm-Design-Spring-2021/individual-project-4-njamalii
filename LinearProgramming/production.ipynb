{
  "nbformat": 4,
  "nbformat_minor": 0,
  "metadata": {
    "colab": {
      "name": "production.ipynb",
      "provenance": [],
      "collapsed_sections": []
    },
    "kernelspec": {
      "name": "python3",
      "display_name": "Python 3"
    },
    "language_info": {
      "name": "python"
    }
  },
  "cells": [
    {
      "cell_type": "code",
      "metadata": {
        "colab": {
          "base_uri": "https://localhost:8080/"
        },
        "id": "ywFrHiTojoGJ",
        "outputId": "f0293c14-1272-495a-bf80-667004a9fd7b"
      },
      "source": [
        "!pip install pulp"
      ],
      "execution_count": 3,
      "outputs": [
        {
          "output_type": "stream",
          "text": [
            "Collecting pulp\n",
            "\u001b[?25l  Downloading https://files.pythonhosted.org/packages/14/c4/0eec14a0123209c261de6ff154ef3be5cad3fd557c084f468356662e0585/PuLP-2.4-py3-none-any.whl (40.6MB)\n",
            "\u001b[K     |████████████████████████████████| 40.6MB 74kB/s \n",
            "\u001b[?25hCollecting amply>=0.1.2\n",
            "  Downloading https://files.pythonhosted.org/packages/f3/c5/dfa09dd2595a2ab2ab4e6fa7bebef9565812722e1980d04b0edce5032066/amply-0.1.4-py3-none-any.whl\n",
            "Requirement already satisfied: docutils>=0.3 in /usr/local/lib/python3.7/dist-packages (from amply>=0.1.2->pulp) (0.17.1)\n",
            "Requirement already satisfied: pyparsing in /usr/local/lib/python3.7/dist-packages (from amply>=0.1.2->pulp) (2.4.7)\n",
            "Installing collected packages: amply, pulp\n",
            "Successfully installed amply-0.1.4 pulp-2.4\n"
          ],
          "name": "stdout"
        }
      ]
    },
    {
      "cell_type": "code",
      "metadata": {
        "id": "Mg3ePN3yjaFT"
      },
      "source": [
        "from pulp import *\n"
      ],
      "execution_count": 1,
      "outputs": []
    },
    {
      "cell_type": "code",
      "metadata": {
        "colab": {
          "base_uri": "https://localhost:8080/"
        },
        "id": "HrtH1IfRdrLz",
        "outputId": "bdcc8734-d5da-449e-860a-d704d7322d71"
      },
      "source": [
        "Ingredients = ['zorat', 'sang_ahak', 'soya', 'mahi']\n",
        "\n",
        "# A dictionary of the costs of each of the Ingredients is created\n",
        "costs = {'zorat': 0.12, \n",
        "         'sang_ahak': 0.20, \n",
        "         'soya': 0.24, \n",
        "         'mahi': 0.12}\n",
        "upperbound = {'zorat':6000, \n",
        "              'sang_ahak': 10000, \n",
        "              'soya':4000, \n",
        "              'mahi': 5000}\n",
        "              \n",
        "# A dictionary of the protein percent in each of the Ingredients is created\n",
        "vitPercent  = {'zorat': 8, \n",
        "                'sang_ahak': 6, \n",
        "                'soya': 10, \n",
        "                'mahi': 4}\n",
        "\n",
        "# A dictionary of the fat percent in each of the Ingredients is created\n",
        "proteinPercent = {'zorat': 10, \n",
        "                  'sang_ahak':5, \n",
        "                  'soya': 12, \n",
        "                  'mahi': 8}\n",
        "\n",
        "# A dictionary of the fibre percent in each of the Ingredients is created\n",
        "calPercent = {'zorat': 6, \n",
        "              'sang_ahak': 10, \n",
        "              'soya': 6, \n",
        "              'mahi': 6}\n",
        "\n",
        "# A dictionary of the salt percent in each of the Ingredients is created\n",
        "charbiPercent = {'zorat': 8, \n",
        "                  'sang_ahak':6, \n",
        "                  'soya': 6, \n",
        "                  'mahi': 9}\n",
        "\n",
        "prob = LpProblem(\"The food Problem\", LpMinimize)\n",
        "\n",
        "# Create the 'prob' variable to contain the problem data\n",
        "prob = LpProblem(\"The food Problem\", LpMinimize)\n",
        "\n",
        "# A dictionary called 'ingredient_vars' is created to contain the referenced Variables\n",
        "# ingredient_vars = LpVariable.dicts(\"Ingr\",Ingredients,lowBound=0 ,upBound =upperbound )\n",
        "ingredient_vars = {}\n",
        "keys = range(4)\n",
        "c=0 \n",
        "for i in Ingredients:\n",
        "        ingredient_vars[i] = LpVariable( i ,lowBound=0 ,upBound =upperbound[i] )\n",
        "        c =c+1\n",
        "print(ingredient_vars)\n",
        "\n",
        "prob += lpSum([costs[i]*ingredient_vars[i] for i in Ingredients]), \"Total Cost of Ingredients per can\"\n",
        "\n",
        "# The five constraints are added to 'prob'\n",
        "prob += lpSum([ingredient_vars[i] for i in Ingredients]) == 24000, \"PercentagesSum\"\n",
        "prob += lpSum([vitPercent[i] * ingredient_vars[i] for i in Ingredients]) >= 128000, \"vitRequirement \"\n",
        "prob += lpSum([proteinPercent[i] * ingredient_vars[i] for i in Ingredients]) >= 144000, \"ProteinRequirement\"\n",
        "prob += lpSum([calPercent[i] * ingredient_vars[i] for i in Ingredients]) >= 154000, \"calRequirement\"\n",
        "prob += lpSum([charbiPercent[i] * ingredient_vars[i] for i in Ingredients]) >= 96000, \"charbiRequirement_a\"\n",
        "# prob += lpSum([charbiPercent[i] * ingredient_vars[i] for i in Ingredients]) <= 164000, \"charbiRequirement_b\"\n",
        "\n",
        "# Hereafter the code is the same as before, abbreviated here\n"
      ],
      "execution_count": 46,
      "outputs": [
        {
          "output_type": "stream",
          "text": [
            "{'zorat': zorat, 'sang_ahak': sang_ahak, 'soya': soya, 'mahi': mahi}\n"
          ],
          "name": "stdout"
        },
        {
          "output_type": "stream",
          "text": [
            "/usr/local/lib/python3.7/dist-packages/pulp/pulp.py:1199: UserWarning: Spaces are not permitted in the name. Converted to '_'\n",
            "  warnings.warn(\"Spaces are not permitted in the name. Converted to '_'\")\n"
          ],
          "name": "stderr"
        }
      ]
    },
    {
      "cell_type": "code",
      "metadata": {
        "colab": {
          "base_uri": "https://localhost:8080/"
        },
        "id": "4PXiMoRijQoT",
        "outputId": "31985f7f-94ed-4b32-97fb-16bc089483e2"
      },
      "source": [
        "prob.solve()\n",
        "\n",
        "# 6. Print solution status\n",
        "print(\"Status:\",LpStatus[prob.status])\n",
        "\n",
        "# 7. Print out the optimal value of each variable\n",
        "for v in prob.variables():\n",
        "    print(v.name, \"=\", v.varValue)\n",
        "\n",
        "\n",
        "# Print the objective function value of the optimal solution\n",
        "print(\"Total Cost of Ingredient per can = \", value(prob.objective))"
      ],
      "execution_count": 47,
      "outputs": [
        {
          "output_type": "stream",
          "text": [
            "Status: Optimal\n",
            "mahi = 5000.0\n",
            "sang_ahak = 10000.0\n",
            "soya = 3000.0\n",
            "zorat = 6000.0\n",
            "Total Cost of Ingredient per can =  4040.0\n"
          ],
          "name": "stdout"
        }
      ]
    }
  ]
}